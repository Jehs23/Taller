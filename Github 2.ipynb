{
    "cells": [
        {
            "cell_type": "code",
            "execution_count": 14,
            "metadata": {},
            "outputs": [
                {
                    "name": "stdout",
                    "output_type": "stream",
                    "text": "5\n10\n15\n20\n25\n30\n35\n40\n45\n50\n"
                }
            ],
            "source": "numeros=[1,2,3,4,5,6,7,8,9,10]\nfor n in numeros:\n    res = 5 * n\n    print(res)"
        },
        {
            "cell_type": "code",
            "execution_count": 18,
            "metadata": {},
            "outputs": [
                {
                    "name": "stdout",
                    "output_type": "stream",
                    "text": "Collecting statistics\n  Downloading statistics-1.0.3.5.tar.gz (8.3 kB)\n  Preparing metadata (setup.py) ... \u001b[?25ldone\n\u001b[?25hCollecting docutils>=0.3 (from statistics)\n  Downloading docutils-0.20.1-py3-none-any.whl.metadata (2.8 kB)\nDownloading docutils-0.20.1-py3-none-any.whl (572 kB)\n\u001b[2K   \u001b[90m\u2501\u2501\u2501\u2501\u2501\u2501\u2501\u2501\u2501\u2501\u2501\u2501\u2501\u2501\u2501\u2501\u2501\u2501\u2501\u2501\u2501\u2501\u2501\u2501\u2501\u2501\u2501\u2501\u2501\u2501\u2501\u2501\u2501\u2501\u2501\u2501\u2501\u2501\u2501\u2501\u001b[0m \u001b[32m572.7/572.7 kB\u001b[0m \u001b[31m14.8 MB/s\u001b[0m eta \u001b[36m0:00:00\u001b[0m00:01\u001b[0m\n\u001b[?25hBuilding wheels for collected packages: statistics\n  Building wheel for statistics (setup.py) ... \u001b[?25ldone\n\u001b[?25h  Created wheel for statistics: filename=statistics-1.0.3.5-py3-none-any.whl size=7438 sha256=e2fe21c99cc207d81a8b7600e24fec625819aa735003e84a491c6daa28ca6f27\n  Stored in directory: /tmp/wsuser/.cache/pip/wheels/59/bd/aa/41ad56fbb723d36e457b5be74feb992cdac2855a6999ba34a1\nSuccessfully built statistics\nInstalling collected packages: docutils, statistics\nSuccessfully installed docutils-0.20.1 statistics-1.0.3.5\nNote: you may need to restart the kernel to use updated packages.\n"
                }
            ],
            "source": "pip install statistics"
        },
        {
            "cell_type": "code",
            "execution_count": 26,
            "metadata": {},
            "outputs": [
                {
                    "data": {
                        "text/plain": "22.5"
                    },
                    "execution_count": 26,
                    "metadata": {},
                    "output_type": "execute_result"
                }
            ],
            "source": "from statistics import median\nlista = [10, 50, 15, 20, 25, 30, 12, 56]\nmedian(lista)"
        },
        {
            "cell_type": "code",
            "execution_count": null,
            "metadata": {},
            "outputs": [],
            "source": ""
        }
    ],
    "metadata": {
        "kernelspec": {
            "display_name": "Python 3.10",
            "language": "python",
            "name": "python3"
        },
        "language_info": {
            "codemirror_mode": {
                "name": "ipython",
                "version": 3
            },
            "file_extension": ".py",
            "mimetype": "text/x-python",
            "name": "python",
            "nbconvert_exporter": "python",
            "pygments_lexer": "ipython3",
            "version": "3.10.13"
        }
    },
    "nbformat": 4,
    "nbformat_minor": 1
}